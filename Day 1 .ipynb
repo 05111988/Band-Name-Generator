{
 "cells": [
  {
   "cell_type": "code",
   "execution_count": 2,
   "id": "7f087bac-0098-4f0b-a35e-1451ec873ccb",
   "metadata": {},
   "outputs": [
    {
     "name": "stdout",
     "output_type": "stream",
     "text": [
      "hello world\n"
     ]
    }
   ],
   "source": [
    "print(\"hello world\")"
   ]
  },
  {
   "cell_type": "code",
   "execution_count": 5,
   "id": "3a5fd1f4-85b6-4ca5-85e9-7f95b498fb31",
   "metadata": {},
   "outputs": [
    {
     "name": "stdout",
     "output_type": "stream",
     "text": [
      "hello laddoo\n"
     ]
    }
   ],
   "source": [
    "print(\"hello \" + \"laddoo\")"
   ]
  },
  {
   "cell_type": "code",
   "execution_count": 4,
   "id": "b6cfef49-0069-4b93-b55c-ea69c434efd3",
   "metadata": {},
   "outputs": [
    {
     "name": "stdin",
     "output_type": "stream",
     "text": [
      "what is your name? laddoo\n"
     ]
    },
    {
     "data": {
      "text/plain": [
       "'laddoo'"
      ]
     },
     "execution_count": 4,
     "metadata": {},
     "output_type": "execute_result"
    }
   ],
   "source": [
    "input(\"what is your name?\")"
   ]
  },
  {
   "cell_type": "code",
   "execution_count": 6,
   "id": "f73582ce-2e04-42bf-a268-97dd9ae87b06",
   "metadata": {},
   "outputs": [
    {
     "name": "stdin",
     "output_type": "stream",
     "text": [
      "what is your name? laddoo\n"
     ]
    },
    {
     "name": "stdout",
     "output_type": "stream",
     "text": [
      "Hello laddoo!\n"
     ]
    }
   ],
   "source": [
    "print(\"Hello \" + input(\"what is your name?\") + \"!\")"
   ]
  },
  {
   "cell_type": "code",
   "execution_count": 9,
   "id": "34055692-5098-4e74-8ed6-5b0baf28b0ba",
   "metadata": {},
   "outputs": [
    {
     "name": "stdin",
     "output_type": "stream",
     "text": [
      "what is your name? laddoo\n"
     ]
    },
    {
     "name": "stdout",
     "output_type": "stream",
     "text": [
      "laddoo\n",
      "6\n"
     ]
    }
   ],
   "source": [
    "name = input(\"what is your name?\") \n",
    "print(name)\n",
    "print(len(name))"
   ]
  },
  {
   "cell_type": "code",
   "execution_count": 7,
   "id": "3038f735-41f7-4648-9022-57648dd7f4e1",
   "metadata": {},
   "outputs": [
    {
     "name": "stdout",
     "output_type": "stream",
     "text": [
      "Welcome to the Band Name Generator.\n"
     ]
    },
    {
     "name": "stdin",
     "output_type": "stream",
     "text": [
      "What's the name of the city you grew up in?\n",
      " NewYork\n",
      "What's your pet's name?\n",
      " Dollar\n"
     ]
    },
    {
     "name": "stdout",
     "output_type": "stream",
     "text": [
      "Your band name could be: NewYork Dollar\n"
     ]
    }
   ],
   "source": [
    "print(\"Welcome to the Band Name Generator.\")\n",
    "city = input(\"What's the name of the city you grew up in?\\n\")\n",
    "\n",
    "pet = input(\"What's your pet's name?\\n\")\n",
    "\n",
    "print(\"Your band name could be: \" + city + \" \" + pet)"
   ]
  },
  {
   "cell_type": "code",
   "execution_count": null,
   "id": "a8ed62ed-59ce-4fd0-9781-870b121c8067",
   "metadata": {},
   "outputs": [],
   "source": []
  }
 ],
 "metadata": {
  "kernelspec": {
   "display_name": "Python 3 (ipykernel)",
   "language": "python",
   "name": "python3"
  },
  "language_info": {
   "codemirror_mode": {
    "name": "ipython",
    "version": 3
   },
   "file_extension": ".py",
   "mimetype": "text/x-python",
   "name": "python",
   "nbconvert_exporter": "python",
   "pygments_lexer": "ipython3",
   "version": "3.13.3"
  }
 },
 "nbformat": 4,
 "nbformat_minor": 5
}
